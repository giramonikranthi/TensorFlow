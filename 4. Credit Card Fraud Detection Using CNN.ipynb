{
 "cells": [
  {
   "cell_type": "code",
   "execution_count": 1,
   "metadata": {},
   "outputs": [],
   "source": [
    "import tensorflow as tf\n",
    "from tensorflow import keras\n",
    "from tensorflow.keras import Sequential\n",
    "from tensorflow.keras.layers import Flatten, Dense, Dropout, BatchNormalization\n",
    "from tensorflow.keras.layers import Conv1D, MaxPool1D\n",
    "from tensorflow.keras.optimizers import Adam"
   ]
  },
  {
   "cell_type": "code",
   "execution_count": 2,
   "metadata": {},
   "outputs": [
    {
     "name": "stdout",
     "output_type": "stream",
     "text": [
      "2.0.0-rc0\n"
     ]
    }
   ],
   "source": [
    "print(tf.__version__)"
   ]
  },
  {
   "cell_type": "code",
   "execution_count": 3,
   "metadata": {},
   "outputs": [],
   "source": [
    "import pandas as pd \n",
    "import numpy as np\n",
    "import matplotlib.pyplot as plt\n",
    "from sklearn.model_selection import train_test_split\n",
    "from sklearn.preprocessing import StandardScaler"
   ]
  },
  {
   "cell_type": "code",
   "execution_count": 4,
   "metadata": {},
   "outputs": [],
   "source": [
    "import os"
   ]
  },
  {
   "cell_type": "code",
   "execution_count": 5,
   "metadata": {},
   "outputs": [],
   "source": [
    "data = pd.read_csv('C:/Users/DELL/Desktop/Projects/KGP Talkie/Deep Learning/Data/creditcard.csv')"
   ]
  },
  {
   "cell_type": "code",
   "execution_count": 6,
   "metadata": {},
   "outputs": [
    {
     "data": {
      "text/html": [
       "<div>\n",
       "<style scoped>\n",
       "    .dataframe tbody tr th:only-of-type {\n",
       "        vertical-align: middle;\n",
       "    }\n",
       "\n",
       "    .dataframe tbody tr th {\n",
       "        vertical-align: top;\n",
       "    }\n",
       "\n",
       "    .dataframe thead th {\n",
       "        text-align: right;\n",
       "    }\n",
       "</style>\n",
       "<table border=\"1\" class=\"dataframe\">\n",
       "  <thead>\n",
       "    <tr style=\"text-align: right;\">\n",
       "      <th></th>\n",
       "      <th>Time</th>\n",
       "      <th>V1</th>\n",
       "      <th>V2</th>\n",
       "      <th>V3</th>\n",
       "      <th>V4</th>\n",
       "      <th>V5</th>\n",
       "      <th>V6</th>\n",
       "      <th>V7</th>\n",
       "      <th>V8</th>\n",
       "      <th>V9</th>\n",
       "      <th>...</th>\n",
       "      <th>V21</th>\n",
       "      <th>V22</th>\n",
       "      <th>V23</th>\n",
       "      <th>V24</th>\n",
       "      <th>V25</th>\n",
       "      <th>V26</th>\n",
       "      <th>V27</th>\n",
       "      <th>V28</th>\n",
       "      <th>Amount</th>\n",
       "      <th>Class</th>\n",
       "    </tr>\n",
       "  </thead>\n",
       "  <tbody>\n",
       "    <tr>\n",
       "      <th>0</th>\n",
       "      <td>0.0</td>\n",
       "      <td>-1.359807</td>\n",
       "      <td>-0.072781</td>\n",
       "      <td>2.536347</td>\n",
       "      <td>1.378155</td>\n",
       "      <td>-0.338321</td>\n",
       "      <td>0.462388</td>\n",
       "      <td>0.239599</td>\n",
       "      <td>0.098698</td>\n",
       "      <td>0.363787</td>\n",
       "      <td>...</td>\n",
       "      <td>-0.018307</td>\n",
       "      <td>0.277838</td>\n",
       "      <td>-0.110474</td>\n",
       "      <td>0.066928</td>\n",
       "      <td>0.128539</td>\n",
       "      <td>-0.189115</td>\n",
       "      <td>0.133558</td>\n",
       "      <td>-0.021053</td>\n",
       "      <td>149.62</td>\n",
       "      <td>0</td>\n",
       "    </tr>\n",
       "    <tr>\n",
       "      <th>1</th>\n",
       "      <td>0.0</td>\n",
       "      <td>1.191857</td>\n",
       "      <td>0.266151</td>\n",
       "      <td>0.166480</td>\n",
       "      <td>0.448154</td>\n",
       "      <td>0.060018</td>\n",
       "      <td>-0.082361</td>\n",
       "      <td>-0.078803</td>\n",
       "      <td>0.085102</td>\n",
       "      <td>-0.255425</td>\n",
       "      <td>...</td>\n",
       "      <td>-0.225775</td>\n",
       "      <td>-0.638672</td>\n",
       "      <td>0.101288</td>\n",
       "      <td>-0.339846</td>\n",
       "      <td>0.167170</td>\n",
       "      <td>0.125895</td>\n",
       "      <td>-0.008983</td>\n",
       "      <td>0.014724</td>\n",
       "      <td>2.69</td>\n",
       "      <td>0</td>\n",
       "    </tr>\n",
       "    <tr>\n",
       "      <th>2</th>\n",
       "      <td>1.0</td>\n",
       "      <td>-1.358354</td>\n",
       "      <td>-1.340163</td>\n",
       "      <td>1.773209</td>\n",
       "      <td>0.379780</td>\n",
       "      <td>-0.503198</td>\n",
       "      <td>1.800499</td>\n",
       "      <td>0.791461</td>\n",
       "      <td>0.247676</td>\n",
       "      <td>-1.514654</td>\n",
       "      <td>...</td>\n",
       "      <td>0.247998</td>\n",
       "      <td>0.771679</td>\n",
       "      <td>0.909412</td>\n",
       "      <td>-0.689281</td>\n",
       "      <td>-0.327642</td>\n",
       "      <td>-0.139097</td>\n",
       "      <td>-0.055353</td>\n",
       "      <td>-0.059752</td>\n",
       "      <td>378.66</td>\n",
       "      <td>0</td>\n",
       "    </tr>\n",
       "    <tr>\n",
       "      <th>3</th>\n",
       "      <td>1.0</td>\n",
       "      <td>-0.966272</td>\n",
       "      <td>-0.185226</td>\n",
       "      <td>1.792993</td>\n",
       "      <td>-0.863291</td>\n",
       "      <td>-0.010309</td>\n",
       "      <td>1.247203</td>\n",
       "      <td>0.237609</td>\n",
       "      <td>0.377436</td>\n",
       "      <td>-1.387024</td>\n",
       "      <td>...</td>\n",
       "      <td>-0.108300</td>\n",
       "      <td>0.005274</td>\n",
       "      <td>-0.190321</td>\n",
       "      <td>-1.175575</td>\n",
       "      <td>0.647376</td>\n",
       "      <td>-0.221929</td>\n",
       "      <td>0.062723</td>\n",
       "      <td>0.061458</td>\n",
       "      <td>123.50</td>\n",
       "      <td>0</td>\n",
       "    </tr>\n",
       "    <tr>\n",
       "      <th>4</th>\n",
       "      <td>2.0</td>\n",
       "      <td>-1.158233</td>\n",
       "      <td>0.877737</td>\n",
       "      <td>1.548718</td>\n",
       "      <td>0.403034</td>\n",
       "      <td>-0.407193</td>\n",
       "      <td>0.095921</td>\n",
       "      <td>0.592941</td>\n",
       "      <td>-0.270533</td>\n",
       "      <td>0.817739</td>\n",
       "      <td>...</td>\n",
       "      <td>-0.009431</td>\n",
       "      <td>0.798278</td>\n",
       "      <td>-0.137458</td>\n",
       "      <td>0.141267</td>\n",
       "      <td>-0.206010</td>\n",
       "      <td>0.502292</td>\n",
       "      <td>0.219422</td>\n",
       "      <td>0.215153</td>\n",
       "      <td>69.99</td>\n",
       "      <td>0</td>\n",
       "    </tr>\n",
       "  </tbody>\n",
       "</table>\n",
       "<p>5 rows × 31 columns</p>\n",
       "</div>"
      ],
      "text/plain": [
       "   Time        V1        V2        V3        V4        V5        V6        V7  \\\n",
       "0   0.0 -1.359807 -0.072781  2.536347  1.378155 -0.338321  0.462388  0.239599   \n",
       "1   0.0  1.191857  0.266151  0.166480  0.448154  0.060018 -0.082361 -0.078803   \n",
       "2   1.0 -1.358354 -1.340163  1.773209  0.379780 -0.503198  1.800499  0.791461   \n",
       "3   1.0 -0.966272 -0.185226  1.792993 -0.863291 -0.010309  1.247203  0.237609   \n",
       "4   2.0 -1.158233  0.877737  1.548718  0.403034 -0.407193  0.095921  0.592941   \n",
       "\n",
       "         V8        V9  ...       V21       V22       V23       V24       V25  \\\n",
       "0  0.098698  0.363787  ... -0.018307  0.277838 -0.110474  0.066928  0.128539   \n",
       "1  0.085102 -0.255425  ... -0.225775 -0.638672  0.101288 -0.339846  0.167170   \n",
       "2  0.247676 -1.514654  ...  0.247998  0.771679  0.909412 -0.689281 -0.327642   \n",
       "3  0.377436 -1.387024  ... -0.108300  0.005274 -0.190321 -1.175575  0.647376   \n",
       "4 -0.270533  0.817739  ... -0.009431  0.798278 -0.137458  0.141267 -0.206010   \n",
       "\n",
       "        V26       V27       V28  Amount  Class  \n",
       "0 -0.189115  0.133558 -0.021053  149.62      0  \n",
       "1  0.125895 -0.008983  0.014724    2.69      0  \n",
       "2 -0.139097 -0.055353 -0.059752  378.66      0  \n",
       "3 -0.221929  0.062723  0.061458  123.50      0  \n",
       "4  0.502292  0.219422  0.215153   69.99      0  \n",
       "\n",
       "[5 rows x 31 columns]"
      ]
     },
     "execution_count": 6,
     "metadata": {},
     "output_type": "execute_result"
    }
   ],
   "source": [
    "data.head()"
   ]
  },
  {
   "cell_type": "code",
   "execution_count": 7,
   "metadata": {},
   "outputs": [
    {
     "data": {
      "text/plain": [
       "(284807, 31)"
      ]
     },
     "execution_count": 7,
     "metadata": {},
     "output_type": "execute_result"
    }
   ],
   "source": [
    "data.shape"
   ]
  },
  {
   "cell_type": "code",
   "execution_count": 8,
   "metadata": {},
   "outputs": [
    {
     "data": {
      "text/plain": [
       "Time      0\n",
       "V1        0\n",
       "V2        0\n",
       "V3        0\n",
       "V4        0\n",
       "V5        0\n",
       "V6        0\n",
       "V7        0\n",
       "V8        0\n",
       "V9        0\n",
       "V10       0\n",
       "V11       0\n",
       "V12       0\n",
       "V13       0\n",
       "V14       0\n",
       "V15       0\n",
       "V16       0\n",
       "V17       0\n",
       "V18       0\n",
       "V19       0\n",
       "V20       0\n",
       "V21       0\n",
       "V22       0\n",
       "V23       0\n",
       "V24       0\n",
       "V25       0\n",
       "V26       0\n",
       "V27       0\n",
       "V28       0\n",
       "Amount    0\n",
       "Class     0\n",
       "dtype: int64"
      ]
     },
     "execution_count": 8,
     "metadata": {},
     "output_type": "execute_result"
    }
   ],
   "source": [
    "data.isnull().sum()"
   ]
  },
  {
   "cell_type": "code",
   "execution_count": 9,
   "metadata": {},
   "outputs": [
    {
     "data": {
      "text/plain": [
       "0    284315\n",
       "1       492\n",
       "Name: Class, dtype: int64"
      ]
     },
     "execution_count": 9,
     "metadata": {},
     "output_type": "execute_result"
    }
   ],
   "source": [
    "data['Class'].value_counts()"
   ]
  },
  {
   "cell_type": "code",
   "execution_count": null,
   "metadata": {},
   "outputs": [],
   "source": []
  },
  {
   "cell_type": "markdown",
   "metadata": {},
   "source": [
    "### Balance Dataset"
   ]
  },
  {
   "cell_type": "code",
   "execution_count": 10,
   "metadata": {},
   "outputs": [],
   "source": [
    "non_fraud = data[data['Class']==0]\n",
    "fraud = data[data['Class']==1]"
   ]
  },
  {
   "cell_type": "code",
   "execution_count": 11,
   "metadata": {},
   "outputs": [
    {
     "data": {
      "text/plain": [
       "((284315, 31), (492, 31))"
      ]
     },
     "execution_count": 11,
     "metadata": {},
     "output_type": "execute_result"
    }
   ],
   "source": [
    "non_fraud.shape, fraud.shape"
   ]
  },
  {
   "cell_type": "code",
   "execution_count": 12,
   "metadata": {},
   "outputs": [
    {
     "data": {
      "text/plain": [
       "(492, 31)"
      ]
     },
     "execution_count": 12,
     "metadata": {},
     "output_type": "execute_result"
    }
   ],
   "source": [
    "non_fraud = non_fraud.sample(fraud.shape[0])\n",
    "non_fraud.shape"
   ]
  },
  {
   "cell_type": "code",
   "execution_count": 13,
   "metadata": {},
   "outputs": [
    {
     "data": {
      "text/html": [
       "<div>\n",
       "<style scoped>\n",
       "    .dataframe tbody tr th:only-of-type {\n",
       "        vertical-align: middle;\n",
       "    }\n",
       "\n",
       "    .dataframe tbody tr th {\n",
       "        vertical-align: top;\n",
       "    }\n",
       "\n",
       "    .dataframe thead th {\n",
       "        text-align: right;\n",
       "    }\n",
       "</style>\n",
       "<table border=\"1\" class=\"dataframe\">\n",
       "  <thead>\n",
       "    <tr style=\"text-align: right;\">\n",
       "      <th></th>\n",
       "      <th>Time</th>\n",
       "      <th>V1</th>\n",
       "      <th>V2</th>\n",
       "      <th>V3</th>\n",
       "      <th>V4</th>\n",
       "      <th>V5</th>\n",
       "      <th>V6</th>\n",
       "      <th>V7</th>\n",
       "      <th>V8</th>\n",
       "      <th>V9</th>\n",
       "      <th>...</th>\n",
       "      <th>V21</th>\n",
       "      <th>V22</th>\n",
       "      <th>V23</th>\n",
       "      <th>V24</th>\n",
       "      <th>V25</th>\n",
       "      <th>V26</th>\n",
       "      <th>V27</th>\n",
       "      <th>V28</th>\n",
       "      <th>Amount</th>\n",
       "      <th>Class</th>\n",
       "    </tr>\n",
       "  </thead>\n",
       "  <tbody>\n",
       "    <tr>\n",
       "      <th>0</th>\n",
       "      <td>406.0</td>\n",
       "      <td>-2.312227</td>\n",
       "      <td>1.951992</td>\n",
       "      <td>-1.609851</td>\n",
       "      <td>3.997906</td>\n",
       "      <td>-0.522188</td>\n",
       "      <td>-1.426545</td>\n",
       "      <td>-2.537387</td>\n",
       "      <td>1.391657</td>\n",
       "      <td>-2.770089</td>\n",
       "      <td>...</td>\n",
       "      <td>0.517232</td>\n",
       "      <td>-0.035049</td>\n",
       "      <td>-0.465211</td>\n",
       "      <td>0.320198</td>\n",
       "      <td>0.044519</td>\n",
       "      <td>0.177840</td>\n",
       "      <td>0.261145</td>\n",
       "      <td>-0.143276</td>\n",
       "      <td>0.00</td>\n",
       "      <td>1</td>\n",
       "    </tr>\n",
       "    <tr>\n",
       "      <th>1</th>\n",
       "      <td>472.0</td>\n",
       "      <td>-3.043541</td>\n",
       "      <td>-3.157307</td>\n",
       "      <td>1.088463</td>\n",
       "      <td>2.288644</td>\n",
       "      <td>1.359805</td>\n",
       "      <td>-1.064823</td>\n",
       "      <td>0.325574</td>\n",
       "      <td>-0.067794</td>\n",
       "      <td>-0.270953</td>\n",
       "      <td>...</td>\n",
       "      <td>0.661696</td>\n",
       "      <td>0.435477</td>\n",
       "      <td>1.375966</td>\n",
       "      <td>-0.293803</td>\n",
       "      <td>0.279798</td>\n",
       "      <td>-0.145362</td>\n",
       "      <td>-0.252773</td>\n",
       "      <td>0.035764</td>\n",
       "      <td>529.00</td>\n",
       "      <td>1</td>\n",
       "    </tr>\n",
       "    <tr>\n",
       "      <th>2</th>\n",
       "      <td>4462.0</td>\n",
       "      <td>-2.303350</td>\n",
       "      <td>1.759247</td>\n",
       "      <td>-0.359745</td>\n",
       "      <td>2.330243</td>\n",
       "      <td>-0.821628</td>\n",
       "      <td>-0.075788</td>\n",
       "      <td>0.562320</td>\n",
       "      <td>-0.399147</td>\n",
       "      <td>-0.238253</td>\n",
       "      <td>...</td>\n",
       "      <td>-0.294166</td>\n",
       "      <td>-0.932391</td>\n",
       "      <td>0.172726</td>\n",
       "      <td>-0.087330</td>\n",
       "      <td>-0.156114</td>\n",
       "      <td>-0.542628</td>\n",
       "      <td>0.039566</td>\n",
       "      <td>-0.153029</td>\n",
       "      <td>239.93</td>\n",
       "      <td>1</td>\n",
       "    </tr>\n",
       "    <tr>\n",
       "      <th>3</th>\n",
       "      <td>6986.0</td>\n",
       "      <td>-4.397974</td>\n",
       "      <td>1.358367</td>\n",
       "      <td>-2.592844</td>\n",
       "      <td>2.679787</td>\n",
       "      <td>-1.128131</td>\n",
       "      <td>-1.706536</td>\n",
       "      <td>-3.496197</td>\n",
       "      <td>-0.248778</td>\n",
       "      <td>-0.247768</td>\n",
       "      <td>...</td>\n",
       "      <td>0.573574</td>\n",
       "      <td>0.176968</td>\n",
       "      <td>-0.436207</td>\n",
       "      <td>-0.053502</td>\n",
       "      <td>0.252405</td>\n",
       "      <td>-0.657488</td>\n",
       "      <td>-0.827136</td>\n",
       "      <td>0.849573</td>\n",
       "      <td>59.00</td>\n",
       "      <td>1</td>\n",
       "    </tr>\n",
       "    <tr>\n",
       "      <th>4</th>\n",
       "      <td>7519.0</td>\n",
       "      <td>1.234235</td>\n",
       "      <td>3.019740</td>\n",
       "      <td>-4.304597</td>\n",
       "      <td>4.732795</td>\n",
       "      <td>3.624201</td>\n",
       "      <td>-1.357746</td>\n",
       "      <td>1.713445</td>\n",
       "      <td>-0.496358</td>\n",
       "      <td>-1.282858</td>\n",
       "      <td>...</td>\n",
       "      <td>-0.379068</td>\n",
       "      <td>-0.704181</td>\n",
       "      <td>-0.656805</td>\n",
       "      <td>-1.632653</td>\n",
       "      <td>1.488901</td>\n",
       "      <td>0.566797</td>\n",
       "      <td>-0.010016</td>\n",
       "      <td>0.146793</td>\n",
       "      <td>1.00</td>\n",
       "      <td>1</td>\n",
       "    </tr>\n",
       "    <tr>\n",
       "      <th>...</th>\n",
       "      <td>...</td>\n",
       "      <td>...</td>\n",
       "      <td>...</td>\n",
       "      <td>...</td>\n",
       "      <td>...</td>\n",
       "      <td>...</td>\n",
       "      <td>...</td>\n",
       "      <td>...</td>\n",
       "      <td>...</td>\n",
       "      <td>...</td>\n",
       "      <td>...</td>\n",
       "      <td>...</td>\n",
       "      <td>...</td>\n",
       "      <td>...</td>\n",
       "      <td>...</td>\n",
       "      <td>...</td>\n",
       "      <td>...</td>\n",
       "      <td>...</td>\n",
       "      <td>...</td>\n",
       "      <td>...</td>\n",
       "      <td>...</td>\n",
       "    </tr>\n",
       "    <tr>\n",
       "      <th>979</th>\n",
       "      <td>70689.0</td>\n",
       "      <td>-0.259879</td>\n",
       "      <td>0.699389</td>\n",
       "      <td>0.125772</td>\n",
       "      <td>-1.246340</td>\n",
       "      <td>2.596914</td>\n",
       "      <td>3.401019</td>\n",
       "      <td>0.323824</td>\n",
       "      <td>0.717450</td>\n",
       "      <td>-0.374336</td>\n",
       "      <td>...</td>\n",
       "      <td>-0.333934</td>\n",
       "      <td>-0.877408</td>\n",
       "      <td>-0.097086</td>\n",
       "      <td>0.983397</td>\n",
       "      <td>-0.062538</td>\n",
       "      <td>0.057976</td>\n",
       "      <td>0.103971</td>\n",
       "      <td>-0.108962</td>\n",
       "      <td>2.97</td>\n",
       "      <td>0</td>\n",
       "    </tr>\n",
       "    <tr>\n",
       "      <th>980</th>\n",
       "      <td>161774.0</td>\n",
       "      <td>1.861929</td>\n",
       "      <td>-0.309541</td>\n",
       "      <td>-1.707917</td>\n",
       "      <td>0.401221</td>\n",
       "      <td>0.083931</td>\n",
       "      <td>-1.252614</td>\n",
       "      <td>0.549526</td>\n",
       "      <td>-0.391903</td>\n",
       "      <td>0.661335</td>\n",
       "      <td>...</td>\n",
       "      <td>0.180925</td>\n",
       "      <td>0.414169</td>\n",
       "      <td>0.010978</td>\n",
       "      <td>1.148366</td>\n",
       "      <td>0.287559</td>\n",
       "      <td>-0.586763</td>\n",
       "      <td>-0.035663</td>\n",
       "      <td>-0.031257</td>\n",
       "      <td>107.81</td>\n",
       "      <td>0</td>\n",
       "    </tr>\n",
       "    <tr>\n",
       "      <th>981</th>\n",
       "      <td>58474.0</td>\n",
       "      <td>-0.091824</td>\n",
       "      <td>-0.777321</td>\n",
       "      <td>2.219802</td>\n",
       "      <td>-1.670665</td>\n",
       "      <td>-1.912615</td>\n",
       "      <td>-0.200829</td>\n",
       "      <td>-0.857941</td>\n",
       "      <td>0.151843</td>\n",
       "      <td>-1.448851</td>\n",
       "      <td>...</td>\n",
       "      <td>-0.160713</td>\n",
       "      <td>-0.043658</td>\n",
       "      <td>0.047795</td>\n",
       "      <td>0.344816</td>\n",
       "      <td>-0.203150</td>\n",
       "      <td>-0.232805</td>\n",
       "      <td>0.083716</td>\n",
       "      <td>0.037792</td>\n",
       "      <td>50.00</td>\n",
       "      <td>0</td>\n",
       "    </tr>\n",
       "    <tr>\n",
       "      <th>982</th>\n",
       "      <td>114209.0</td>\n",
       "      <td>1.768510</td>\n",
       "      <td>-0.510677</td>\n",
       "      <td>-1.009336</td>\n",
       "      <td>0.077673</td>\n",
       "      <td>-0.101602</td>\n",
       "      <td>-0.342223</td>\n",
       "      <td>0.006559</td>\n",
       "      <td>-0.059658</td>\n",
       "      <td>0.176855</td>\n",
       "      <td>...</td>\n",
       "      <td>-0.325436</td>\n",
       "      <td>-1.275678</td>\n",
       "      <td>0.472961</td>\n",
       "      <td>0.671466</td>\n",
       "      <td>-0.780841</td>\n",
       "      <td>-0.044264</td>\n",
       "      <td>-0.093270</td>\n",
       "      <td>-0.029057</td>\n",
       "      <td>126.84</td>\n",
       "      <td>0</td>\n",
       "    </tr>\n",
       "    <tr>\n",
       "      <th>983</th>\n",
       "      <td>139814.0</td>\n",
       "      <td>-0.468293</td>\n",
       "      <td>0.401522</td>\n",
       "      <td>-0.602710</td>\n",
       "      <td>-1.445129</td>\n",
       "      <td>1.381040</td>\n",
       "      <td>-0.577924</td>\n",
       "      <td>0.932580</td>\n",
       "      <td>-0.066164</td>\n",
       "      <td>0.197022</td>\n",
       "      <td>...</td>\n",
       "      <td>0.389959</td>\n",
       "      <td>1.280015</td>\n",
       "      <td>0.036700</td>\n",
       "      <td>0.204691</td>\n",
       "      <td>-0.511767</td>\n",
       "      <td>-0.621362</td>\n",
       "      <td>0.377197</td>\n",
       "      <td>0.312590</td>\n",
       "      <td>18.61</td>\n",
       "      <td>0</td>\n",
       "    </tr>\n",
       "  </tbody>\n",
       "</table>\n",
       "<p>984 rows × 31 columns</p>\n",
       "</div>"
      ],
      "text/plain": [
       "         Time        V1        V2        V3        V4        V5        V6  \\\n",
       "0       406.0 -2.312227  1.951992 -1.609851  3.997906 -0.522188 -1.426545   \n",
       "1       472.0 -3.043541 -3.157307  1.088463  2.288644  1.359805 -1.064823   \n",
       "2      4462.0 -2.303350  1.759247 -0.359745  2.330243 -0.821628 -0.075788   \n",
       "3      6986.0 -4.397974  1.358367 -2.592844  2.679787 -1.128131 -1.706536   \n",
       "4      7519.0  1.234235  3.019740 -4.304597  4.732795  3.624201 -1.357746   \n",
       "..        ...       ...       ...       ...       ...       ...       ...   \n",
       "979   70689.0 -0.259879  0.699389  0.125772 -1.246340  2.596914  3.401019   \n",
       "980  161774.0  1.861929 -0.309541 -1.707917  0.401221  0.083931 -1.252614   \n",
       "981   58474.0 -0.091824 -0.777321  2.219802 -1.670665 -1.912615 -0.200829   \n",
       "982  114209.0  1.768510 -0.510677 -1.009336  0.077673 -0.101602 -0.342223   \n",
       "983  139814.0 -0.468293  0.401522 -0.602710 -1.445129  1.381040 -0.577924   \n",
       "\n",
       "           V7        V8        V9  ...       V21       V22       V23  \\\n",
       "0   -2.537387  1.391657 -2.770089  ...  0.517232 -0.035049 -0.465211   \n",
       "1    0.325574 -0.067794 -0.270953  ...  0.661696  0.435477  1.375966   \n",
       "2    0.562320 -0.399147 -0.238253  ... -0.294166 -0.932391  0.172726   \n",
       "3   -3.496197 -0.248778 -0.247768  ...  0.573574  0.176968 -0.436207   \n",
       "4    1.713445 -0.496358 -1.282858  ... -0.379068 -0.704181 -0.656805   \n",
       "..        ...       ...       ...  ...       ...       ...       ...   \n",
       "979  0.323824  0.717450 -0.374336  ... -0.333934 -0.877408 -0.097086   \n",
       "980  0.549526 -0.391903  0.661335  ...  0.180925  0.414169  0.010978   \n",
       "981 -0.857941  0.151843 -1.448851  ... -0.160713 -0.043658  0.047795   \n",
       "982  0.006559 -0.059658  0.176855  ... -0.325436 -1.275678  0.472961   \n",
       "983  0.932580 -0.066164  0.197022  ...  0.389959  1.280015  0.036700   \n",
       "\n",
       "          V24       V25       V26       V27       V28  Amount  Class  \n",
       "0    0.320198  0.044519  0.177840  0.261145 -0.143276    0.00      1  \n",
       "1   -0.293803  0.279798 -0.145362 -0.252773  0.035764  529.00      1  \n",
       "2   -0.087330 -0.156114 -0.542628  0.039566 -0.153029  239.93      1  \n",
       "3   -0.053502  0.252405 -0.657488 -0.827136  0.849573   59.00      1  \n",
       "4   -1.632653  1.488901  0.566797 -0.010016  0.146793    1.00      1  \n",
       "..        ...       ...       ...       ...       ...     ...    ...  \n",
       "979  0.983397 -0.062538  0.057976  0.103971 -0.108962    2.97      0  \n",
       "980  1.148366  0.287559 -0.586763 -0.035663 -0.031257  107.81      0  \n",
       "981  0.344816 -0.203150 -0.232805  0.083716  0.037792   50.00      0  \n",
       "982  0.671466 -0.780841 -0.044264 -0.093270 -0.029057  126.84      0  \n",
       "983  0.204691 -0.511767 -0.621362  0.377197  0.312590   18.61      0  \n",
       "\n",
       "[984 rows x 31 columns]"
      ]
     },
     "execution_count": 13,
     "metadata": {},
     "output_type": "execute_result"
    }
   ],
   "source": [
    "data = fraud.append(non_fraud, ignore_index=True)\n",
    "data"
   ]
  },
  {
   "cell_type": "code",
   "execution_count": 14,
   "metadata": {},
   "outputs": [
    {
     "data": {
      "text/plain": [
       "1    492\n",
       "0    492\n",
       "Name: Class, dtype: int64"
      ]
     },
     "execution_count": 14,
     "metadata": {},
     "output_type": "execute_result"
    }
   ],
   "source": [
    "data['Class'].value_counts()"
   ]
  },
  {
   "cell_type": "code",
   "execution_count": 15,
   "metadata": {},
   "outputs": [],
   "source": [
    "X = data.drop('Class', axis = 1)\n",
    "y = data['Class']"
   ]
  },
  {
   "cell_type": "code",
   "execution_count": 16,
   "metadata": {},
   "outputs": [
    {
     "data": {
      "text/plain": [
       "((787, 30), (787,), (197, 30), (197,))"
      ]
     },
     "execution_count": 16,
     "metadata": {},
     "output_type": "execute_result"
    }
   ],
   "source": [
    "x_train, x_test, y_train, y_test = train_test_split(X, y, test_size = 0.2, random_state = 0, stratify = y )\n",
    "x_train.shape, y_train.shape, x_test.shape, y_test.shape"
   ]
  },
  {
   "cell_type": "code",
   "execution_count": 17,
   "metadata": {},
   "outputs": [],
   "source": [
    "scaler = StandardScaler()\n",
    "x_train = scaler.fit_transform(x_train)\n",
    "x_test = scaler.transform(x_test)"
   ]
  },
  {
   "cell_type": "code",
   "execution_count": 18,
   "metadata": {},
   "outputs": [
    {
     "data": {
      "text/plain": [
       "array([[-0.90867299,  0.27715005, -0.60425132, ..., -0.12950423,\n",
       "        -0.05378623, -0.04761896],\n",
       "       [ 0.7666941 ,  0.78377102, -0.7230228 , ..., -0.08797729,\n",
       "        -0.11057226, -0.21941165],\n",
       "       [-1.44352549, -2.08958336,  1.18977519, ...,  2.45874374,\n",
       "        -2.22580793, -0.34161525],\n",
       "       ...,\n",
       "       [-1.57340146, -0.38894168,  0.32196764, ..., -1.34598222,\n",
       "         1.45545618, -0.26162496],\n",
       "       [-0.77677801,  0.63353687, -0.42190388, ..., -0.06072895,\n",
       "        -0.03750792, -0.22665132],\n",
       "       [ 0.82001248,  0.71973469, -0.58898617, ..., -0.13962935,\n",
       "        -0.05631582,  0.18856878]])"
      ]
     },
     "execution_count": 18,
     "metadata": {},
     "output_type": "execute_result"
    }
   ],
   "source": [
    "x_train"
   ]
  },
  {
   "cell_type": "code",
   "execution_count": 19,
   "metadata": {},
   "outputs": [
    {
     "data": {
      "text/plain": [
       "845    0\n",
       "898    0\n",
       "45     1\n",
       "536    0\n",
       "739    0\n",
       "      ..\n",
       "202    1\n",
       "711    0\n",
       "31     1\n",
       "882    0\n",
       "563    0\n",
       "Name: Class, Length: 787, dtype: int64"
      ]
     },
     "execution_count": 19,
     "metadata": {},
     "output_type": "execute_result"
    }
   ],
   "source": [
    "y_train"
   ]
  },
  {
   "cell_type": "code",
   "execution_count": 20,
   "metadata": {},
   "outputs": [],
   "source": [
    "y_train = y_train.to_numpy()\n",
    "y_test = y_test.to_numpy()"
   ]
  },
  {
   "cell_type": "code",
   "execution_count": 21,
   "metadata": {},
   "outputs": [
    {
     "data": {
      "text/plain": [
       "array([0, 0, 1, 0, 0, 1, 1, 1, 0, 0, 0, 0, 1, 1, 1, 1, 0, 0, 0, 1, 0, 1,\n",
       "       0, 0, 1, 0, 0, 0, 1, 1, 1, 1, 1, 1, 1, 1, 0, 1, 0, 0, 0, 1, 0, 0,\n",
       "       0, 1, 0, 1, 1, 1, 1, 0, 0, 1, 1, 1, 0, 0, 1, 0, 0, 1, 1, 1, 0, 0,\n",
       "       0, 0, 0, 0, 0, 0, 1, 1, 0, 0, 1, 0, 1, 0, 0, 0, 1, 0, 0, 1, 0, 0,\n",
       "       0, 1, 0, 0, 1, 1, 1, 0, 1, 1, 0, 0, 0, 1, 1, 1, 0, 1, 0, 1, 1, 1,\n",
       "       1, 1, 1, 0, 1, 1, 1, 1, 0, 1, 1, 1, 0, 0, 1, 0, 1, 1, 1, 0, 1, 1,\n",
       "       1, 0, 0, 1, 0, 1, 0, 1, 0, 0, 1, 1, 1, 0, 1, 0, 1, 0, 0, 1, 1, 0,\n",
       "       0, 0, 1, 0, 1, 0, 0, 0, 0, 0, 1, 0, 0, 1, 0, 1, 0, 0, 1, 1, 1, 0,\n",
       "       1, 1, 1, 0, 0, 0, 0, 1, 1, 0, 1, 0, 0, 1, 0, 1, 0, 0, 0, 1, 0, 1,\n",
       "       0, 0, 0, 0, 1, 0, 1, 1, 0, 1, 1, 0, 1, 0, 0, 0, 0, 1, 1, 1, 1, 0,\n",
       "       0, 0, 0, 0, 1, 1, 0, 0, 0, 0, 1, 0, 1, 1, 0, 1, 0, 1, 1, 1, 0, 0,\n",
       "       0, 0, 0, 0, 1, 0, 1, 0, 0, 0, 1, 0, 1, 0, 1, 0, 0, 0, 1, 0, 1, 0,\n",
       "       1, 1, 1, 1, 0, 0, 0, 1, 1, 1, 1, 1, 0, 0, 1, 1, 0, 1, 0, 0, 0, 1,\n",
       "       1, 0, 0, 0, 1, 1, 0, 1, 0, 0, 1, 0, 0, 0, 1, 1, 1, 0, 1, 0, 0, 0,\n",
       "       0, 1, 1, 0, 0, 1, 1, 1, 0, 0, 0, 0, 1, 1, 0, 1, 0, 1, 1, 1, 0, 0,\n",
       "       1, 1, 1, 0, 0, 1, 0, 0, 0, 0, 1, 1, 0, 0, 0, 1, 1, 0, 0, 0, 1, 0,\n",
       "       1, 0, 0, 0, 0, 0, 0, 0, 0, 1, 1, 0, 0, 0, 0, 1, 1, 1, 1, 1, 1, 1,\n",
       "       0, 0, 0, 1, 0, 0, 1, 1, 1, 0, 1, 1, 1, 1, 1, 1, 1, 1, 0, 0, 0, 1,\n",
       "       1, 1, 1, 1, 0, 1, 1, 0, 0, 1, 1, 1, 1, 1, 0, 0, 1, 0, 0, 1, 1, 0,\n",
       "       1, 1, 0, 0, 1, 0, 1, 0, 1, 1, 0, 1, 1, 0, 1, 1, 1, 0, 0, 0, 1, 0,\n",
       "       0, 1, 0, 1, 0, 1, 1, 1, 0, 0, 0, 1, 1, 1, 0, 0, 0, 0, 0, 0, 0, 1,\n",
       "       1, 0, 1, 0, 0, 0, 0, 0, 1, 0, 1, 1, 1, 1, 0, 1, 1, 1, 0, 0, 1, 1,\n",
       "       0, 1, 1, 1, 1, 1, 1, 0, 1, 0, 0, 1, 0, 0, 1, 1, 1, 0, 1, 0, 0, 0,\n",
       "       1, 0, 1, 0, 0, 1, 1, 1, 0, 0, 0, 1, 0, 1, 0, 1, 1, 1, 1, 1, 1, 0,\n",
       "       1, 0, 1, 1, 1, 1, 0, 0, 1, 0, 0, 0, 0, 0, 0, 0, 1, 1, 1, 1, 0, 0,\n",
       "       1, 0, 0, 1, 1, 0, 0, 0, 1, 0, 1, 1, 0, 0, 0, 1, 1, 0, 1, 1, 1, 1,\n",
       "       1, 1, 0, 1, 1, 1, 1, 1, 1, 0, 0, 0, 0, 0, 0, 0, 0, 0, 1, 0, 1, 0,\n",
       "       1, 0, 0, 1, 1, 1, 0, 0, 0, 0, 0, 0, 1, 0, 1, 1, 0, 1, 1, 0, 0, 1,\n",
       "       1, 0, 1, 1, 1, 0, 0, 1, 1, 0, 0, 1, 0, 1, 1, 1, 1, 1, 1, 0, 1, 1,\n",
       "       0, 1, 0, 1, 0, 0, 1, 1, 1, 0, 0, 0, 1, 0, 1, 0, 0, 1, 1, 0, 1, 1,\n",
       "       1, 1, 1, 0, 0, 0, 0, 0, 1, 1, 0, 1, 0, 0, 0, 0, 1, 1, 0, 1, 0, 1,\n",
       "       0, 0, 0, 0, 1, 1, 0, 1, 1, 1, 0, 0, 0, 0, 1, 1, 0, 1, 1, 1, 0, 0,\n",
       "       1, 0, 0, 1, 1, 0, 1, 1, 1, 0, 0, 1, 1, 0, 1, 0, 0, 0, 1, 0, 1, 1,\n",
       "       1, 1, 0, 1, 0, 1, 1, 0, 1, 0, 1, 0, 0, 0, 0, 0, 1, 1, 1, 0, 0, 1,\n",
       "       0, 0, 1, 0, 1, 1, 0, 1, 1, 1, 1, 1, 0, 1, 0, 0, 0, 1, 0, 1, 1, 1,\n",
       "       1, 1, 1, 0, 0, 1, 1, 1, 1, 0, 0, 1, 1, 0, 1, 0, 0], dtype=int64)"
      ]
     },
     "execution_count": 21,
     "metadata": {},
     "output_type": "execute_result"
    }
   ],
   "source": [
    "y_train"
   ]
  },
  {
   "cell_type": "code",
   "execution_count": 22,
   "metadata": {},
   "outputs": [
    {
     "data": {
      "text/plain": [
       "(787, 30)"
      ]
     },
     "execution_count": 22,
     "metadata": {},
     "output_type": "execute_result"
    }
   ],
   "source": [
    "x_train.shape"
   ]
  },
  {
   "cell_type": "code",
   "execution_count": 23,
   "metadata": {},
   "outputs": [],
   "source": [
    "#x_train = x_train.reshape(x_train.reshape[0], x_train.reshape[1], 1)\n",
    "#x_test  = x_test.reshape(x_test.reshape[0], x_test.reshape[1], 1)\n",
    "\n",
    "x_train = x_train.reshape(787, 30, 1)\n",
    "x_test = x_test.reshape(197,30, 1)"
   ]
  },
  {
   "cell_type": "code",
   "execution_count": 24,
   "metadata": {},
   "outputs": [
    {
     "data": {
      "text/plain": [
       "((787, 30, 1), (197, 30, 1))"
      ]
     },
     "execution_count": 24,
     "metadata": {},
     "output_type": "execute_result"
    }
   ],
   "source": [
    "x_train.shape, x_test.shape"
   ]
  },
  {
   "cell_type": "code",
   "execution_count": 25,
   "metadata": {},
   "outputs": [
    {
     "data": {
      "text/plain": [
       "array([[[-0.90867299],\n",
       "        [ 0.27715005],\n",
       "        [-0.60425132],\n",
       "        ...,\n",
       "        [-0.12950423],\n",
       "        [-0.05378623],\n",
       "        [-0.04761896]],\n",
       "\n",
       "       [[ 0.7666941 ],\n",
       "        [ 0.78377102],\n",
       "        [-0.7230228 ],\n",
       "        ...,\n",
       "        [-0.08797729],\n",
       "        [-0.11057226],\n",
       "        [-0.21941165]],\n",
       "\n",
       "       [[-1.44352549],\n",
       "        [-2.08958336],\n",
       "        [ 1.18977519],\n",
       "        ...,\n",
       "        [ 2.45874374],\n",
       "        [-2.22580793],\n",
       "        [-0.34161525]],\n",
       "\n",
       "       ...,\n",
       "\n",
       "       [[-1.57340146],\n",
       "        [-0.38894168],\n",
       "        [ 0.32196764],\n",
       "        ...,\n",
       "        [-1.34598222],\n",
       "        [ 1.45545618],\n",
       "        [-0.26162496]],\n",
       "\n",
       "       [[-0.77677801],\n",
       "        [ 0.63353687],\n",
       "        [-0.42190388],\n",
       "        ...,\n",
       "        [-0.06072895],\n",
       "        [-0.03750792],\n",
       "        [-0.22665132]],\n",
       "\n",
       "       [[ 0.82001248],\n",
       "        [ 0.71973469],\n",
       "        [-0.58898617],\n",
       "        ...,\n",
       "        [-0.13962935],\n",
       "        [-0.05631582],\n",
       "        [ 0.18856878]]])"
      ]
     },
     "execution_count": 25,
     "metadata": {},
     "output_type": "execute_result"
    }
   ],
   "source": [
    "x_train"
   ]
  },
  {
   "cell_type": "markdown",
   "metadata": {},
   "source": [
    "### Build CNN"
   ]
  },
  {
   "cell_type": "code",
   "execution_count": 26,
   "metadata": {},
   "outputs": [],
   "source": [
    "epochs = 20\n",
    "model = Sequential()\n",
    "model.add(Conv1D(32, 2, activation= 'relu', input_shape=x_train[0].shape))\n",
    "model.add(BatchNormalization())\n",
    "model.add(Dropout(0.2))\n",
    "\n",
    "model.add(Conv1D(64, 2, activation='relu'))\n",
    "model.add(BatchNormalization())\n",
    "model.add(Dropout(0.5))\n",
    "\n",
    "model.add(Flatten())\n",
    "model.add(Dense(64, activation='relu'))\n",
    "model.add(Dropout(0.5))\n",
    "\n",
    "model.add(Dense(1, activation='sigmoid'))"
   ]
  },
  {
   "cell_type": "code",
   "execution_count": 27,
   "metadata": {},
   "outputs": [
    {
     "name": "stdout",
     "output_type": "stream",
     "text": [
      "Model: \"sequential\"\n",
      "_________________________________________________________________\n",
      "Layer (type)                 Output Shape              Param #   \n",
      "=================================================================\n",
      "conv1d (Conv1D)              (None, 29, 32)            96        \n",
      "_________________________________________________________________\n",
      "batch_normalization (BatchNo (None, 29, 32)            128       \n",
      "_________________________________________________________________\n",
      "dropout (Dropout)            (None, 29, 32)            0         \n",
      "_________________________________________________________________\n",
      "conv1d_1 (Conv1D)            (None, 28, 64)            4160      \n",
      "_________________________________________________________________\n",
      "batch_normalization_1 (Batch (None, 28, 64)            256       \n",
      "_________________________________________________________________\n",
      "dropout_1 (Dropout)          (None, 28, 64)            0         \n",
      "_________________________________________________________________\n",
      "flatten (Flatten)            (None, 1792)              0         \n",
      "_________________________________________________________________\n",
      "dense (Dense)                (None, 64)                114752    \n",
      "_________________________________________________________________\n",
      "dropout_2 (Dropout)          (None, 64)                0         \n",
      "_________________________________________________________________\n",
      "dense_1 (Dense)              (None, 1)                 65        \n",
      "=================================================================\n",
      "Total params: 119,457\n",
      "Trainable params: 119,265\n",
      "Non-trainable params: 192\n",
      "_________________________________________________________________\n"
     ]
    }
   ],
   "source": [
    "model.summary()"
   ]
  },
  {
   "cell_type": "code",
   "execution_count": 28,
   "metadata": {},
   "outputs": [],
   "source": [
    "model.compile(optimizer=Adam(lr=0.0001), loss = 'binary_crossentropy', metrics = ['accuracy'])"
   ]
  },
  {
   "cell_type": "code",
   "execution_count": 29,
   "metadata": {},
   "outputs": [
    {
     "name": "stdout",
     "output_type": "stream",
     "text": [
      "Train on 787 samples, validate on 197 samples\n",
      "Epoch 1/20\n",
      "WARNING:tensorflow:From C:\\Users\\DELL\\Anaconda3\\envs\\tensorflow\\lib\\site-packages\\tensorflow_core\\python\\ops\\nn_impl.py:183: where (from tensorflow.python.ops.array_ops) is deprecated and will be removed in a future version.\n",
      "Instructions for updating:\n",
      "Use tf.where in 2.0, which has the same broadcast rule as np.where\n",
      "787/787 [==============================] - 6s 7ms/sample - loss: 0.8095 - accuracy: 0.6404 - val_loss: 0.6017 - val_accuracy: 0.8274\n",
      "Epoch 2/20\n",
      "787/787 [==============================] - 0s 506us/sample - loss: 0.5230 - accuracy: 0.7929 - val_loss: 0.5404 - val_accuracy: 0.8579\n",
      "Epoch 3/20\n",
      "787/787 [==============================] - 0s 316us/sample - loss: 0.4062 - accuracy: 0.8577 - val_loss: 0.4949 - val_accuracy: 0.8883\n",
      "Epoch 4/20\n",
      "787/787 [==============================] - 0s 308us/sample - loss: 0.3970 - accuracy: 0.8615 - val_loss: 0.4550 - val_accuracy: 0.9036\n",
      "Epoch 5/20\n",
      "787/787 [==============================] - 0s 318us/sample - loss: 0.3481 - accuracy: 0.8717 - val_loss: 0.4198 - val_accuracy: 0.9086\n",
      "Epoch 6/20\n",
      "787/787 [==============================] - 0s 309us/sample - loss: 0.3063 - accuracy: 0.8933 - val_loss: 0.3970 - val_accuracy: 0.9086\n",
      "Epoch 7/20\n",
      "787/787 [==============================] - 0s 310us/sample - loss: 0.2905 - accuracy: 0.9022 - val_loss: 0.3587 - val_accuracy: 0.9086\n",
      "Epoch 8/20\n",
      "787/787 [==============================] - 0s 305us/sample - loss: 0.3086 - accuracy: 0.9060 - val_loss: 0.3283 - val_accuracy: 0.9137\n",
      "Epoch 9/20\n",
      "787/787 [==============================] - 0s 343us/sample - loss: 0.2410 - accuracy: 0.9085 - val_loss: 0.3063 - val_accuracy: 0.9137\n",
      "Epoch 10/20\n",
      "787/787 [==============================] - 0s 304us/sample - loss: 0.2637 - accuracy: 0.9187 - val_loss: 0.2886 - val_accuracy: 0.9086\n",
      "Epoch 11/20\n",
      "787/787 [==============================] - 0s 311us/sample - loss: 0.2469 - accuracy: 0.9111 - val_loss: 0.2652 - val_accuracy: 0.9086\n",
      "Epoch 12/20\n",
      "787/787 [==============================] - 0s 302us/sample - loss: 0.2420 - accuracy: 0.9111 - val_loss: 0.2484 - val_accuracy: 0.9137\n",
      "Epoch 13/20\n",
      "787/787 [==============================] - 0s 315us/sample - loss: 0.2399 - accuracy: 0.9187 - val_loss: 0.2371 - val_accuracy: 0.9086\n",
      "Epoch 14/20\n",
      "787/787 [==============================] - 0s 307us/sample - loss: 0.2496 - accuracy: 0.9136 - val_loss: 0.2282 - val_accuracy: 0.9086\n",
      "Epoch 15/20\n",
      "787/787 [==============================] - 0s 309us/sample - loss: 0.2471 - accuracy: 0.9161 - val_loss: 0.2231 - val_accuracy: 0.9137\n",
      "Epoch 16/20\n",
      "787/787 [==============================] - 0s 301us/sample - loss: 0.2215 - accuracy: 0.9276 - val_loss: 0.2218 - val_accuracy: 0.9188\n",
      "Epoch 17/20\n",
      "787/787 [==============================] - 0s 331us/sample - loss: 0.2366 - accuracy: 0.9301 - val_loss: 0.2214 - val_accuracy: 0.9188\n",
      "Epoch 18/20\n",
      "787/787 [==============================] - 0s 350us/sample - loss: 0.2578 - accuracy: 0.9187 - val_loss: 0.2214 - val_accuracy: 0.9188\n",
      "Epoch 19/20\n",
      "787/787 [==============================] - 0s 307us/sample - loss: 0.2250 - accuracy: 0.9250 - val_loss: 0.2213 - val_accuracy: 0.9188\n",
      "Epoch 20/20\n",
      "787/787 [==============================] - 0s 444us/sample - loss: 0.2266 - accuracy: 0.9212 - val_loss: 0.2261 - val_accuracy: 0.9188\n"
     ]
    }
   ],
   "source": [
    "history = model.fit(x_train, y_train, epochs=epochs, validation_data=(x_test, y_test), verbose=1) "
   ]
  },
  {
   "cell_type": "code",
   "execution_count": 30,
   "metadata": {},
   "outputs": [
    {
     "data": {
      "text/plain": [
       "{'loss': [0.8095161488428807,\n",
       "  0.5230464783829686,\n",
       "  0.40615002267545486,\n",
       "  0.39701578676170435,\n",
       "  0.348060679784118,\n",
       "  0.30626673186067704,\n",
       "  0.29052329252756837,\n",
       "  0.3086290314812521,\n",
       "  0.24101452482095062,\n",
       "  0.26371290011206,\n",
       "  0.24694127793006096,\n",
       "  0.24195454105867364,\n",
       "  0.23985792181467616,\n",
       "  0.24962065360370403,\n",
       "  0.24710742979673753,\n",
       "  0.22148993671924974,\n",
       "  0.2365833216049771,\n",
       "  0.257759887673046,\n",
       "  0.22497630622971618,\n",
       "  0.22656853603059485],\n",
       " 'accuracy': [0.6404066,\n",
       "  0.79288435,\n",
       "  0.8576874,\n",
       "  0.86149937,\n",
       "  0.8716645,\n",
       "  0.89326555,\n",
       "  0.9021601,\n",
       "  0.90597206,\n",
       "  0.90851337,\n",
       "  0.9186785,\n",
       "  0.9110546,\n",
       "  0.9110546,\n",
       "  0.9186785,\n",
       "  0.9135959,\n",
       "  0.9161372,\n",
       "  0.9275731,\n",
       "  0.9301143,\n",
       "  0.9186785,\n",
       "  0.9250318,\n",
       "  0.9212198],\n",
       " 'val_loss': [0.6017055375321867,\n",
       "  0.540361615606976,\n",
       "  0.4948946155872442,\n",
       "  0.4550232026480176,\n",
       "  0.41976162049976096,\n",
       "  0.397037762373232,\n",
       "  0.35872125837403507,\n",
       "  0.32831435790521846,\n",
       "  0.30634607775562306,\n",
       "  0.288635380906502,\n",
       "  0.26517660439317,\n",
       "  0.24838481155143777,\n",
       "  0.23705641948027054,\n",
       "  0.22819232358242655,\n",
       "  0.2230694106387608,\n",
       "  0.2217982002926357,\n",
       "  0.22141540648065847,\n",
       "  0.22138916409862827,\n",
       "  0.22128067226125503,\n",
       "  0.22608682970861493],\n",
       " 'val_accuracy': [0.8274112,\n",
       "  0.857868,\n",
       "  0.88832486,\n",
       "  0.9035533,\n",
       "  0.9086294,\n",
       "  0.9086294,\n",
       "  0.9086294,\n",
       "  0.9137056,\n",
       "  0.9137056,\n",
       "  0.9086294,\n",
       "  0.9086294,\n",
       "  0.9137056,\n",
       "  0.9086294,\n",
       "  0.9086294,\n",
       "  0.9137056,\n",
       "  0.9187817,\n",
       "  0.9187817,\n",
       "  0.9187817,\n",
       "  0.9187817,\n",
       "  0.9187817]}"
      ]
     },
     "execution_count": 30,
     "metadata": {},
     "output_type": "execute_result"
    }
   ],
   "source": [
    "history.history"
   ]
  },
  {
   "cell_type": "code",
   "execution_count": 31,
   "metadata": {},
   "outputs": [],
   "source": [
    "def plot_learningCurve(history, epoch):\n",
    "  # plot training & Validation accuracy values\n",
    "  epoch_range = range(1,epoch+1)\n",
    "\n",
    "  plt.plot(epoch_range, history.history['accuracy'])\n",
    "  plt.plot(epoch_range, history.history['val_accuracy'])\n",
    "  plt.title('Model accuracy')\n",
    "  plt.ylabel('Accuracy')\n",
    "  plt.xlabel('Epoch')\n",
    "  plt.legend(['train', 'val'], loc = 'upper left')\n",
    "  plt.show()\n",
    "\n",
    "\n",
    "  # plot training & Validation loss values\n",
    "\n",
    "  plt.plot(epoch_range, history.history['loss'])\n",
    "  plt.plot(epoch_range, history.history['val_loss'])\n",
    "  plt.title('Model loss')\n",
    "  plt.ylabel('loss')\n",
    "  plt.xlabel('Epoch')\n",
    "  plt.legend(['train', 'val'], loc = 'upper left')\n",
    "  plt.show()"
   ]
  },
  {
   "cell_type": "code",
   "execution_count": 32,
   "metadata": {},
   "outputs": [
    {
     "data": {
      "image/png": "[encoded data removed]",
      "text/plain": [
       "<Figure size 432x288 with 1 Axes>"
      ]
     },
     "metadata": {
      "needs_background": "light"
     },
     "output_type": "display_data"
    },
    {
     "data": {
      "image/png": "[encoded data removed]",
      "text/plain": [
       "<Figure size 432x288 with 1 Axes>"
      ]
     },
     "metadata": {
      "needs_background": "light"
     },
     "output_type": "display_data"
    }
   ],
   "source": [
    "plot_learningCurve(history, epochs)"
   ]
  },
  {
   "cell_type": "code",
   "execution_count": null,
   "metadata": {},
   "outputs": [],
   "source": []
  },
  {
   "cell_type": "markdown",
   "metadata": {},
   "source": [
    "### Adding MaxPool"
   ]
  },
  {
   "cell_type": "code",
   "execution_count": 33,
   "metadata": {},
   "outputs": [
    {
     "name": "stdout",
     "output_type": "stream",
     "text": [
      "Train on 787 samples, validate on 197 samples\n",
      "Epoch 1/20\n",
      "787/787 [==============================] - 3s 4ms/sample - loss: 0.9878 - accuracy: 0.5845 - val_loss: 0.6613 - val_accuracy: 0.6853\n",
      "Epoch 2/20\n",
      "787/787 [==============================] - 0s 313us/sample - loss: 0.8756 - accuracy: 0.6239 - val_loss: 0.6258 - val_accuracy: 0.7157\n",
      "Epoch 3/20\n",
      "787/787 [==============================] - 0s 316us/sample - loss: 0.6960 - accuracy: 0.7141 - val_loss: 0.5944 - val_accuracy: 0.7056\n",
      "Epoch 4/20\n",
      "787/787 [==============================] - 0s 295us/sample - loss: 0.6370 - accuracy: 0.7230 - val_loss: 0.5654 - val_accuracy: 0.6904\n",
      "Epoch 5/20\n",
      "787/787 [==============================] - 0s 254us/sample - loss: 0.5674 - accuracy: 0.7586 - val_loss: 0.5397 - val_accuracy: 0.6904\n",
      "Epoch 6/20\n",
      "787/787 [==============================] - 0s 268us/sample - loss: 0.5175 - accuracy: 0.7751 - val_loss: 0.5122 - val_accuracy: 0.7259\n",
      "Epoch 7/20\n",
      "787/787 [==============================] - 0s 280us/sample - loss: 0.5259 - accuracy: 0.7802 - val_loss: 0.4862 - val_accuracy: 0.7462\n",
      "Epoch 8/20\n",
      "787/787 [==============================] - 0s 256us/sample - loss: 0.5134 - accuracy: 0.7942 - val_loss: 0.4602 - val_accuracy: 0.7716\n",
      "Epoch 9/20\n",
      "787/787 [==============================] - 0s 283us/sample - loss: 0.4446 - accuracy: 0.8221 - val_loss: 0.4352 - val_accuracy: 0.8020\n",
      "Epoch 10/20\n",
      "787/787 [==============================] - 0s 291us/sample - loss: 0.3850 - accuracy: 0.8475 - val_loss: 0.4112 - val_accuracy: 0.8223\n",
      "Epoch 11/20\n",
      "787/787 [==============================] - 0s 283us/sample - loss: 0.4615 - accuracy: 0.8335 - val_loss: 0.3875 - val_accuracy: 0.8426\n",
      "Epoch 12/20\n",
      "787/787 [==============================] - 0s 272us/sample - loss: 0.3859 - accuracy: 0.8297 - val_loss: 0.3656 - val_accuracy: 0.8477\n",
      "Epoch 13/20\n",
      "787/787 [==============================] - 0s 316us/sample - loss: 0.4041 - accuracy: 0.8361 - val_loss: 0.3475 - val_accuracy: 0.8528\n",
      "Epoch 14/20\n",
      "787/787 [==============================] - 0s 284us/sample - loss: 0.3615 - accuracy: 0.8501 - val_loss: 0.3322 - val_accuracy: 0.8629\n",
      "Epoch 15/20\n",
      "787/787 [==============================] - 0s 266us/sample - loss: 0.3776 - accuracy: 0.8450 - val_loss: 0.3221 - val_accuracy: 0.8680\n",
      "Epoch 16/20\n",
      "787/787 [==============================] - 0s 289us/sample - loss: 0.3715 - accuracy: 0.8653 - val_loss: 0.3087 - val_accuracy: 0.8782\n",
      "Epoch 17/20\n",
      "787/787 [==============================] - 0s 261us/sample - loss: 0.3605 - accuracy: 0.8691 - val_loss: 0.2992 - val_accuracy: 0.8782\n",
      "Epoch 18/20\n",
      "787/787 [==============================] - 0s 289us/sample - loss: 0.3825 - accuracy: 0.8564 - val_loss: 0.2945 - val_accuracy: 0.8832\n",
      "Epoch 19/20\n",
      "787/787 [==============================] - 0s 254us/sample - loss: 0.3187 - accuracy: 0.8666 - val_loss: 0.2931 - val_accuracy: 0.8883\n",
      "Epoch 20/20\n",
      "787/787 [==============================] - 0s 289us/sample - loss: 0.3408 - accuracy: 0.8729 - val_loss: 0.2920 - val_accuracy: 0.8934\n"
     ]
    },
    {
     "data": {
      "image/png": "[encoded data removed]",
      "text/plain": [
       "<Figure size 432x288 with 1 Axes>"
      ]
     },
     "metadata": {
      "needs_background": "light"
     },
     "output_type": "display_data"
    },
    {
     "data": {
      "image/png": "[encoded data removed]",
      "text/plain": [
       "<Figure size 432x288 with 1 Axes>"
      ]
     },
     "metadata": {
      "needs_background": "light"
     },
     "output_type": "display_data"
    }
   ],
   "source": [
    "epochs = 20\n",
    "model = Sequential()\n",
    "model.add(Conv1D(32, 2, activation= 'relu', input_shape=x_train[0].shape))\n",
    "model.add(BatchNormalization())\n",
    "model.add(MaxPool1D(2))\n",
    "model.add(Dropout(0.2))\n",
    "\n",
    "model.add(Conv1D(64, 2, activation='relu'))\n",
    "model.add(BatchNormalization())\n",
    "model.add(MaxPool1D(2))\n",
    "model.add(Dropout(0.5))\n",
    "\n",
    "model.add(Flatten())\n",
    "model.add(Dense(64, activation='relu'))\n",
    "model.add(Dropout(0.5))\n",
    "\n",
    "model.add(Dense(1, activation='sigmoid'))\n",
    "\n",
    "\n",
    "model.compile(optimizer=Adam(lr=0.0001), loss = 'binary_crossentropy', metrics = ['accuracy'])\n",
    "\n",
    "history = model.fit(x_train, y_train, epochs=epochs, validation_data=(x_test, y_test), verbose=1) \n",
    "\n",
    "\n",
    "plot_learningCurve(history, epochs)"
   ]
  },
  {
   "cell_type": "code",
   "execution_count": null,
   "metadata": {},
   "outputs": [],
   "source": []
  },
  {
   "cell_type": "code",
   "execution_count": null,
   "metadata": {},
   "outputs": [],
   "source": []
  }
 ],
 "metadata": {
  "kernelspec": {
   "display_name": "Python 3",
   "language": "python",
   "name": "python3"
  },
  "language_info": {
   "codemirror_mode": {
    "name": "ipython",
    "version": 3
   },
   "file_extension": ".py",
   "mimetype": "text/x-python",
   "name": "python",
   "nbconvert_exporter": "python",
   "pygments_lexer": "ipython3",
   "version": "3.7.7"
  }
 },
 "nbformat": 4,
 "nbformat_minor": 4
}
